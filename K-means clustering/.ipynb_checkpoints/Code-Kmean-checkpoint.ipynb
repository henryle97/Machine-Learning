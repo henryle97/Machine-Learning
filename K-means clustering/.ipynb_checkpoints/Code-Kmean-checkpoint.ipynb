{
 "cells": [
  {
   "cell_type": "markdown",
   "metadata": {},
   "source": [
    "# Tóm tắt thuật toán\n",
    "Tới đây tôi xin được tóm tắt lại thuật toán (đặc biệt quan trọng với các bạn bỏ qua phần toán học bên trên) như sau:\n",
    "\n",
    "+Đầu vào: Dữ liệu X và số lượng cluster cần tìm K\n",
    "\n",
    "+Đầu ra: Các center M và label vector cho từng điểm dữ liệu Y\n",
    "\n",
    "+ Chọn K điểm bất kỳ làm các center ban đầu.\n",
    "+ Phân mỗi điểm dữ liệu vào cluster có center gần nó nhất.\n",
    "+ Nếu việc gán dữ liệu vào từng cluster ở bước 2 không thay đổi so với vòng lặp trước nó thì ta dừng thuật toán.\n",
    "+ Cập nhật center cho từng cluster bằng cách lấy trung bình cộng của tất các các điểm dữ liệu đã được gán vào cluster đó sau bước 2.\n",
    "+ Quay lại bước 2.\n"
   ]
  },
  {
   "cell_type": "markdown",
   "metadata": {},
   "source": [
    "#### B1: Chọn center cho từng cluster và tạo dữ liệu cho từng cluster bằng cách lấy mẫu theo phân phối chuẩn có kỳ vọng là center của cluster đó và ma trận hiệp phương sai (covariance matrix) là ma trận đơn vị."
   ]
  },
  {
   "cell_type": "code",
   "execution_count": null,
   "metadata": {},
   "outputs": [],
   "source": [
    "# Library \n",
    "import numpy as np\n",
    "import matplotlib.pyplot as plt \n",
    "from scipy.spatial.distance import cdist      # tính khoảng cách giữa 2 cặp điểm "
   ]
  },
  {
   "cell_type": "code",
   "execution_count": 103,
   "metadata": {},
   "outputs": [],
   "source": [
    "# Tạo dữ liệu center (2,2) (8,3) (3,6)\n",
    "np.random.seed(11)\n",
    "means = [[2,2], [8,3], [3,6] ]\n",
    "cov = [ [1,0], [0, 1]]       # ma trận hiệp phương sai là ma trận đơn vị \n",
    "N = 500  #mỗi center có 500 điểm \n",
    "\n",
    "X0 = np.random.multivariate_normal(means[0], cov, N)\n",
    "X1 = np.random.multivariate_normal(means[1], cov, N)\n",
    "X2 = np.random.multivariate_normal(means[2], cov, N)\n",
    "\n",
    "X = np.concatenate((X0, X1, X2), axis = 0)     # nối chồng lên nhau (2 cột )\n",
    "K = 3  # số lượng center \n",
    "original_label = np.asarray([0] * N + [1] * N + [2] * N).T     # đánh nhãn cho tập dữ liệu X,  [i] * N (ma trận N hàng giá trị i ) -> return 1 mảng 1 chiều \n",
    "\n"
   ]
  },
  {
   "cell_type": "code",
   "execution_count": 136,
   "metadata": {},
   "outputs": [],
   "source": [
    "# display data\n",
    "def kmeans_display(X, label):\n",
    "    K = np.amax(label) + 1                    # np.amax(array): trả về giá trị max của 1 mảng \n",
    "    X0 = X[label == 0, :]                          # lấy các hàng có label 0\n",
    "    X1 = X[label == 1, :]\n",
    "    X2 = X[label == 2, :]\n",
    "    \n",
    "    plt.plot(X0[:, 0], X0[:, 1], 'b^', markersize = 4, alpha = .8)\n",
    "    plt.plot(X1[:, 0], X1[:, 1], 'go', markersize = 4, alpha = .8)\n",
    "    plt.plot(X2[:, 0], X2[:, 1], 'rs', markersize = 4, alpha = .8)\n",
    "\n",
    "    plt.axis('equal')\n",
    "    plt.plot()\n",
    "    plt.show()\n",
    "    "
   ]
  },
  {
   "cell_type": "markdown",
   "metadata": {},
   "source": [
    "#### Viết các hàm:\n",
    "\n",
    "1. kmeans_init_centers để khởi tạo các centers ban đầu.\n",
    "2. kmeans_asign_labels để gán nhán mới cho các điểm khi biết các centers.\n",
    "3. kmeans_update_centers để cập nhật các centers mới dữa trên dữ liệu vừa được gán nhãn.\n",
    "4. has_converged để kiểm tra điều kiện dừng của thuật toán.\n",
    " "
   ]
  },
  {
   "cell_type": "code",
   "execution_count": 105,
   "metadata": {},
   "outputs": [],
   "source": [
    "# khởi tạo các centers ban đầu.\n",
    "def kmeans_init_centers(X, k):\n",
    "    # random pick k rows of X as initial centers \n",
    "    return X[np.random.choice(X.shape[0], k, replace=False)]\n"
   ]
  },
  {
   "cell_type": "code",
   "execution_count": 115,
   "metadata": {},
   "outputs": [],
   "source": [
    "# gán nhán mới cho các điểm khi biết các centers.\n",
    "def kmeans_assign_labels(X, centers):\n",
    "    # calculate pairwise distance btw data and centers \n",
    "    D = cdist(X, centers)                # return matrix k hàng * 1 cột : mỗi hàng là khoảng cách từ điểm đó đến lần lượt 3 center\n",
    "    # return index of the closest center \n",
    "    return np.argmin(D, axis=1)                # axis=1 ứng với cột "
   ]
  },
  {
   "cell_type": "code",
   "execution_count": 134,
   "metadata": {},
   "outputs": [],
   "source": [
    "# cập nhật các centers mới dữa trên dữ liệu vừa được gán nhãn.\n",
    "def kmeans_update_centers(X, labels, K):\n",
    "    centers = np.zeros( (K, X.shape[1]) )   #khởi tạo matrix 0  K hàng, 2 cột \n",
    "    for k in range(K):\n",
    "        #collection all points assigned to the k-th cluster\n",
    "        Xk = X[labels == k, :]\n",
    "        # take average (lấy trung bình cộng)\n",
    "        centers[k, :] = np.mean(Xk, axis=0)   # theo trục dọc : kết quả trả về [x,y]\n",
    "        \n",
    "    return centers\n"
   ]
  },
  {
   "cell_type": "code",
   "execution_count": 156,
   "metadata": {},
   "outputs": [],
   "source": [
    "# kiểm tra điều kiện dừng của thuật toán.\n",
    "def kmeans_has_coveraged(centers, new_centers):\n",
    "    # return true if two sets of centers are the same \n",
    "    return (set([tuple(a) for a in centers]) == set([tuple(a) for a in new_centers]))"
   ]
  },
  {
   "cell_type": "code",
   "execution_count": 148,
   "metadata": {},
   "outputs": [],
   "source": [
    "# Kmean algorithrm \n",
    "def kmeans(X, K):\n",
    "    centers = [kmeans_init_centers(X, K)]   # conver thành list để dùng append lưu lịch sử \n",
    "    labels = []\n",
    "    it = 0\n",
    "    \n",
    "    while True:\n",
    "        labels.append(kmeans_asign_labels(X, centers[-1]))     # lấy center ở cuối array \n",
    "        new_centers = kmeans_update_centers(X, labels[-1], K)\n",
    "        if kmeans_has_coveraged(centers, new_centers):\n",
    "            break\n",
    "        centers.append(new_centers)\n",
    "        it += 1\n",
    "        \n",
    "    return (centers, labels, it)\n"
   ]
  },
  {
   "cell_type": "code",
   "execution_count": 157,
   "metadata": {},
   "outputs": [
    {
     "name": "stdout",
     "output_type": "stream",
     "text": [
      "[[4.46407075 4.60139421 2.73174519]\n",
      " [6.29964601 7.62536323 5.82267911]\n",
      " [3.98089208 6.30176446 3.66506603]\n",
      " ...\n",
      " [1.07691903 5.88033268 2.09929047]\n",
      " [2.21458835 5.65400179 2.43812505]\n",
      " [1.38439296 6.86882651 3.3399357 ]]\n",
      "[2 2 2 ... 0 0 0]\n",
      "[[ 3.74945474  1.713927  ]\n",
      " [ 1.51543487 -0.65331856]\n",
      " [ 1.99171537  1.68036864]\n",
      " ...\n",
      " [ 2.56402984  5.10138061]\n",
      " [ 3.62998852  6.60564711]\n",
      " [ 2.31894139  6.84856953]]\n",
      "[2 2 2 ... 0 0 0]\n",
      "[[ 3.74945474  1.713927  ]\n",
      " [ 1.51543487 -0.65331856]\n",
      " [ 1.99171537  1.68036864]\n",
      " ...\n",
      " [ 2.56402984  5.10138061]\n",
      " [ 3.62998852  6.60564711]\n",
      " [ 2.31894139  6.84856953]]\n",
      "[2 2 2 ... 0 0 0]\n",
      "[[ 3.74945474  1.713927  ]\n",
      " [ 1.51543487 -0.65331856]\n",
      " [ 1.99171537  1.68036864]\n",
      " ...\n",
      " [ 2.56402984  5.10138061]\n",
      " [ 3.62998852  6.60564711]\n",
      " [ 2.31894139  6.84856953]]\n"
     ]
    },
    {
     "ename": "TypeError",
     "evalue": "unhashable type: 'numpy.ndarray'",
     "output_type": "error",
     "traceback": [
      "\u001b[0;31m---------------------------------------------------------------------------\u001b[0m",
      "\u001b[0;31mTypeError\u001b[0m                                 Traceback (most recent call last)",
      "\u001b[0;32m<ipython-input-157-41bd915d4f36>\u001b[0m in \u001b[0;36m<module>\u001b[0;34m()\u001b[0m\n\u001b[0;32m----> 1\u001b[0;31m \u001b[0;34m(\u001b[0m\u001b[0mcenters\u001b[0m\u001b[0;34m,\u001b[0m \u001b[0mlabels\u001b[0m\u001b[0;34m,\u001b[0m \u001b[0mit\u001b[0m\u001b[0;34m)\u001b[0m \u001b[0;34m=\u001b[0m \u001b[0mkmeans\u001b[0m\u001b[0;34m(\u001b[0m\u001b[0mX\u001b[0m\u001b[0;34m,\u001b[0m \u001b[0mK\u001b[0m\u001b[0;34m)\u001b[0m\u001b[0;34m\u001b[0m\u001b[0;34m\u001b[0m\u001b[0m\n\u001b[0m\u001b[1;32m      2\u001b[0m \u001b[0mprint\u001b[0m\u001b[0;34m(\u001b[0m\u001b[0;34m'Centers found by our algorithm:'\u001b[0m\u001b[0;34m)\u001b[0m\u001b[0;34m\u001b[0m\u001b[0;34m\u001b[0m\u001b[0m\n\u001b[1;32m      3\u001b[0m \u001b[0mprint\u001b[0m\u001b[0;34m(\u001b[0m\u001b[0mcenters\u001b[0m\u001b[0;34m[\u001b[0m\u001b[0;34m-\u001b[0m\u001b[0;36m1\u001b[0m\u001b[0;34m]\u001b[0m\u001b[0;34m)\u001b[0m\u001b[0;34m\u001b[0m\u001b[0;34m\u001b[0m\u001b[0m\n\u001b[1;32m      4\u001b[0m \u001b[0;34m\u001b[0m\u001b[0m\n\u001b[1;32m      5\u001b[0m \u001b[0mkmeans_display\u001b[0m\u001b[0;34m(\u001b[0m\u001b[0mX\u001b[0m\u001b[0;34m,\u001b[0m \u001b[0mlabels\u001b[0m\u001b[0;34m[\u001b[0m\u001b[0;34m-\u001b[0m\u001b[0;36m1\u001b[0m\u001b[0;34m]\u001b[0m\u001b[0;34m)\u001b[0m\u001b[0;34m\u001b[0m\u001b[0;34m\u001b[0m\u001b[0m\n",
      "\u001b[0;32m<ipython-input-148-b7d1de290e81>\u001b[0m in \u001b[0;36mkmeans\u001b[0;34m(X, K)\u001b[0m\n\u001b[1;32m      8\u001b[0m         \u001b[0mlabels\u001b[0m\u001b[0;34m.\u001b[0m\u001b[0mappend\u001b[0m\u001b[0;34m(\u001b[0m\u001b[0mkmeans_asign_labels\u001b[0m\u001b[0;34m(\u001b[0m\u001b[0mX\u001b[0m\u001b[0;34m,\u001b[0m \u001b[0mcenters\u001b[0m\u001b[0;34m[\u001b[0m\u001b[0;34m-\u001b[0m\u001b[0;36m1\u001b[0m\u001b[0;34m]\u001b[0m\u001b[0;34m)\u001b[0m\u001b[0;34m)\u001b[0m     \u001b[0;31m# lấy center ở cuối array\u001b[0m\u001b[0;34m\u001b[0m\u001b[0;34m\u001b[0m\u001b[0m\n\u001b[1;32m      9\u001b[0m         \u001b[0mnew_centers\u001b[0m \u001b[0;34m=\u001b[0m \u001b[0mkmeans_update_centers\u001b[0m\u001b[0;34m(\u001b[0m\u001b[0mX\u001b[0m\u001b[0;34m,\u001b[0m \u001b[0mlabels\u001b[0m\u001b[0;34m[\u001b[0m\u001b[0;34m-\u001b[0m\u001b[0;36m1\u001b[0m\u001b[0;34m]\u001b[0m\u001b[0;34m,\u001b[0m \u001b[0mK\u001b[0m\u001b[0;34m)\u001b[0m\u001b[0;34m\u001b[0m\u001b[0;34m\u001b[0m\u001b[0m\n\u001b[0;32m---> 10\u001b[0;31m         \u001b[0;32mif\u001b[0m \u001b[0mkmeans_has_coveraged\u001b[0m\u001b[0;34m(\u001b[0m\u001b[0mcenters\u001b[0m\u001b[0;34m,\u001b[0m \u001b[0mnew_centers\u001b[0m\u001b[0;34m)\u001b[0m\u001b[0;34m:\u001b[0m\u001b[0;34m\u001b[0m\u001b[0;34m\u001b[0m\u001b[0m\n\u001b[0m\u001b[1;32m     11\u001b[0m             \u001b[0;32mbreak\u001b[0m\u001b[0;34m\u001b[0m\u001b[0;34m\u001b[0m\u001b[0m\n\u001b[1;32m     12\u001b[0m         \u001b[0mcenters\u001b[0m\u001b[0;34m.\u001b[0m\u001b[0mappend\u001b[0m\u001b[0;34m(\u001b[0m\u001b[0mnew_centers\u001b[0m\u001b[0;34m)\u001b[0m\u001b[0;34m\u001b[0m\u001b[0;34m\u001b[0m\u001b[0m\n",
      "\u001b[0;32m<ipython-input-156-94f10e3ced98>\u001b[0m in \u001b[0;36mkmeans_has_coveraged\u001b[0;34m(centers, new_centers)\u001b[0m\n\u001b[1;32m      2\u001b[0m \u001b[0;32mdef\u001b[0m \u001b[0mkmeans_has_coveraged\u001b[0m\u001b[0;34m(\u001b[0m\u001b[0mcenters\u001b[0m\u001b[0;34m,\u001b[0m \u001b[0mnew_centers\u001b[0m\u001b[0;34m)\u001b[0m\u001b[0;34m:\u001b[0m\u001b[0;34m\u001b[0m\u001b[0;34m\u001b[0m\u001b[0m\n\u001b[1;32m      3\u001b[0m     \u001b[0;31m# return true if two sets of centers are the same\u001b[0m\u001b[0;34m\u001b[0m\u001b[0;34m\u001b[0m\u001b[0;34m\u001b[0m\u001b[0m\n\u001b[0;32m----> 4\u001b[0;31m     \u001b[0;32mreturn\u001b[0m \u001b[0;34m(\u001b[0m\u001b[0mset\u001b[0m\u001b[0;34m(\u001b[0m\u001b[0mtuple\u001b[0m\u001b[0;34m(\u001b[0m\u001b[0ma\u001b[0m\u001b[0;34m)\u001b[0m \u001b[0;32mfor\u001b[0m \u001b[0ma\u001b[0m \u001b[0;32min\u001b[0m \u001b[0mcenters\u001b[0m\u001b[0;34m)\u001b[0m \u001b[0;34m==\u001b[0m \u001b[0mset\u001b[0m\u001b[0;34m(\u001b[0m\u001b[0mtuple\u001b[0m\u001b[0;34m(\u001b[0m\u001b[0ma\u001b[0m\u001b[0;34m)\u001b[0m \u001b[0;32mfor\u001b[0m \u001b[0ma\u001b[0m \u001b[0;32min\u001b[0m \u001b[0mnew_centers\u001b[0m\u001b[0;34m)\u001b[0m\u001b[0;34m)\u001b[0m\u001b[0;34m\u001b[0m\u001b[0;34m\u001b[0m\u001b[0m\n\u001b[0m",
      "\u001b[0;31mTypeError\u001b[0m: unhashable type: 'numpy.ndarray'"
     ]
    }
   ],
   "source": [
    "(centers, labels, it) = kmeans(X, K)\n",
    "print('Centers found by our algorithm:')\n",
    "print(centers[-1])\n",
    "\n",
    "kmeans_display(X, labels[-1])"
   ]
  }
 ],
 "metadata": {
  "kernelspec": {
   "display_name": "Python 3",
   "language": "python",
   "name": "python3"
  },
  "language_info": {
   "codemirror_mode": {
    "name": "ipython",
    "version": 3
   },
   "file_extension": ".py",
   "mimetype": "text/x-python",
   "name": "python",
   "nbconvert_exporter": "python",
   "pygments_lexer": "ipython3",
   "version": "3.6.7"
  }
 },
 "nbformat": 4,
 "nbformat_minor": 2
}
